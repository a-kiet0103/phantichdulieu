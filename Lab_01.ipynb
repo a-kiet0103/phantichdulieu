{
  "nbformat": 4,
  "nbformat_minor": 0,
  "metadata": {
    "colab": {
      "name": "Lab_01.ipynb",
      "provenance": [],
      "authorship_tag": "ABX9TyNo3gEUUPyaw1lSoFHjfhaq",
      "include_colab_link": true
    },
    "kernelspec": {
      "name": "python3",
      "display_name": "Python 3"
    },
    "language_info": {
      "name": "python"
    }
  },
  "cells": [
    {
      "cell_type": "markdown",
      "metadata": {
        "id": "view-in-github",
        "colab_type": "text"
      },
      "source": [
        "<a href=\"https://colab.research.google.com/github/a-kiet0103/phantichdulieu/blob/main/Lab_01.ipynb\" target=\"_parent\"><img src=\"https://colab.research.google.com/assets/colab-badge.svg\" alt=\"Open In Colab\"/></a>"
      ]
    },
    {
      "cell_type": "code",
      "execution_count": null,
      "metadata": {
        "colab": {
          "base_uri": "https://localhost:8080/"
        },
        "id": "Tp3fUFf33VII",
        "outputId": "32e9af0d-6b24-468b-9c24-35919cab127d"
      },
      "outputs": [
        {
          "output_type": "stream",
          "name": "stdout",
          "text": [
            "Hello! I love You\n"
          ]
        }
      ],
      "source": [
        "print(\"Hello! I love You\")"
      ]
    },
    {
      "cell_type": "markdown",
      "source": [
        "Ghi chú"
      ],
      "metadata": {
        "id": "Wnxn5lAZ4DqN"
      }
    },
    {
      "cell_type": "code",
      "source": [
        "a = 7\n",
        "b = 8"
      ],
      "metadata": {
        "id": "nfHXan074FTw"
      },
      "execution_count": null,
      "outputs": []
    },
    {
      "cell_type": "code",
      "source": [
        "c = a+b\n",
        "print(\"Kết quả c = \",c)"
      ],
      "metadata": {
        "colab": {
          "base_uri": "https://localhost:8080/"
        },
        "id": "qOM1g0kB4MZO",
        "outputId": "047148d1-acb1-44f9-e630-bab738c91f5d"
      },
      "execution_count": null,
      "outputs": [
        {
          "output_type": "stream",
          "name": "stdout",
          "text": [
            "Kết quả c =  15\n"
          ]
        }
      ]
    },
    {
      "cell_type": "code",
      "source": [
        "print(\"pp\")"
      ],
      "metadata": {
        "id": "5snvaTsv5epH",
        "outputId": "778c1614-4149-482a-c469-36255a7fa082",
        "colab": {
          "base_uri": "https://localhost:8080/"
        }
      },
      "execution_count": 1,
      "outputs": [
        {
          "output_type": "stream",
          "name": "stdout",
          "text": [
            "pp\n"
          ]
        }
      ]
    }
  ]
}